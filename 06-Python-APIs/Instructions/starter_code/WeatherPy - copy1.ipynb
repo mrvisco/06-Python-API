{
 "cells": [
  {
   "cell_type": "markdown",
   "metadata": {},
   "source": [
    "# WeatherPy\n",
    "----\n",
    "\n",
    "#### Note\n",
    "* Instructions have been included for each segment. You do not have to follow them exactly, but they are included to help you think through the steps."
   ]
  },
  {
   "cell_type": "code",
   "execution_count": 1,
   "metadata": {
    "scrolled": false
   },
   "outputs": [
    {
     "name": "stdout",
     "output_type": "stream",
     "text": [
      "http://api.openweathermap.org/data/2.5/weather?APPID=38be8af88b04a8ca04e4d9026999e558&units=imperial&q=\n"
     ]
    }
   ],
   "source": [
    "# Dependencies\n",
    "import csv\n",
    "import json\n",
    "import requests\n",
    "import time\n",
    "\n",
    "import matplotlib.pyplot as plt\n",
    "import pandas as pd\n",
    "import numpy as np\n",
    "\n",
    "from config import api_key\n",
    "from citipy import citipy\n",
    "\n",
    "# Save config information\n",
    "#url = \"http://api.openweathermap.org/data/2.5/weather?id=1851632&APPID=38be8af88b04a8ca04e4d9026999e558\"\n",
    "url = \"http://api.openweathermap.org/data/2.5/weather?\"\n",
    "#cityid = \"2988507\"\n",
    "units = \"imperial\"\n",
    "\n",
    "#Build query URL\n",
    "query_url = url + \"APPID=\" + api_key + \"&units=\" + units +\"&q=\"\n",
    "#query_url = f\"{url}id={cityid}&APPID={api_key}&units={units}\"\n",
    "\n",
    "# Pretty print JSON for all launchpads\n",
    "#response = requests.get(query_url).json()\n",
    "#print(json.dumps(response, indent=4, sort_keys=True))\n",
    "\n",
    "#print(api_key)\n",
    "#query_url = f\"{url}appid={api_key}&q={cityid}&units={units}\"\n",
    "#query_url = f\"{url}appid={api_key}&units={units}\"\n",
    "print(query_url)"
   ]
  },
  {
   "cell_type": "code",
   "execution_count": null,
   "metadata": {},
   "outputs": [],
   "source": []
  },
  {
   "cell_type": "code",
   "execution_count": 2,
   "metadata": {},
   "outputs": [],
   "source": [
    "# Section for identifying Variables, Lists and Dictionaries\n",
    "\n",
    "# List for holding lat_lngs and cities\n",
    "#lat_lngs = []\n",
    "#cities = []\n",
    "\n",
    "\n"
   ]
  },
  {
   "cell_type": "code",
   "execution_count": 3,
   "metadata": {},
   "outputs": [
    {
     "ename": "NameError",
     "evalue": "name 'response' is not defined",
     "output_type": "error",
     "traceback": [
      "\u001b[1;31m---------------------------------------------------------------------------\u001b[0m",
      "\u001b[1;31mNameError\u001b[0m                                 Traceback (most recent call last)",
      "\u001b[1;32m<ipython-input-3-7bff5a6347ff>\u001b[0m in \u001b[0;36m<module>\u001b[1;34m\u001b[0m\n\u001b[0;32m      1\u001b[0m \u001b[1;31m# Test run for data fields\u001b[0m\u001b[1;33m\u001b[0m\u001b[1;33m\u001b[0m\u001b[1;33m\u001b[0m\u001b[0m\n\u001b[0;32m      2\u001b[0m \u001b[1;31m# Get temperature from JSON response\u001b[0m\u001b[1;33m\u001b[0m\u001b[1;33m\u001b[0m\u001b[1;33m\u001b[0m\u001b[0m\n\u001b[1;32m----> 3\u001b[1;33m \u001b[0mtemperature\u001b[0m \u001b[1;33m=\u001b[0m \u001b[0mresponse\u001b[0m\u001b[1;33m[\u001b[0m\u001b[1;34m\"main\"\u001b[0m\u001b[1;33m]\u001b[0m\u001b[1;33m[\u001b[0m\u001b[1;34m\"temp\"\u001b[0m\u001b[1;33m]\u001b[0m\u001b[1;33m\u001b[0m\u001b[1;33m\u001b[0m\u001b[0m\n\u001b[0m\u001b[0;32m      4\u001b[0m \u001b[0mwind_speed\u001b[0m \u001b[1;33m=\u001b[0m \u001b[0mresponse\u001b[0m\u001b[1;33m[\u001b[0m\u001b[1;34m\"wind\"\u001b[0m\u001b[1;33m]\u001b[0m\u001b[1;33m[\u001b[0m\u001b[1;34m\"speed\"\u001b[0m\u001b[1;33m]\u001b[0m\u001b[1;33m\u001b[0m\u001b[1;33m\u001b[0m\u001b[0m\n\u001b[0;32m      5\u001b[0m \u001b[0mcity\u001b[0m \u001b[1;33m=\u001b[0m \u001b[0mresponse\u001b[0m\u001b[1;33m[\u001b[0m\u001b[1;34m\"name\"\u001b[0m\u001b[1;33m]\u001b[0m\u001b[1;33m\u001b[0m\u001b[1;33m\u001b[0m\u001b[0m\n",
      "\u001b[1;31mNameError\u001b[0m: name 'response' is not defined"
     ]
    }
   ],
   "source": [
    "'''\n",
    "# Test run for data fields\n",
    "# Get temperature from JSON response\n",
    "#temperature = response[\"main\"][\"temp\"]\n",
    "#wind_speed = response[\"wind\"][\"speed\"]\n",
    "city = response[\"name\"]\n",
    "humidity = response[\"main\"][\"humidity\"]\n",
    "cloudcover = response[\"clouds\"][\"all\"]\n",
    "coordlat = response[\"coord\"][\"lat\"]\n",
    "coordlon = response[\"coord\"][\"lon\"] \n",
    "\n",
    "# Report temperature\n",
    "print(f\"The weather in {city} is {temperature}F, Wind Speed:{wind_speed}(mph), Humidity: {humidity}%, Cloudiness:{cloudcover}%, Latitude:{coordlat}, Longitude:{coordlon}\")\n",
    "'''"
   ]
  },
  {
   "cell_type": "code",
   "execution_count": null,
   "metadata": {},
   "outputs": [],
   "source": [
    "# Output File (CSV)\n",
    "#output_data_file = \"output/cities.csv\"\n"
   ]
  },
  {
   "cell_type": "code",
   "execution_count": null,
   "metadata": {},
   "outputs": [],
   "source": [
    "# Store filepath in a variable\n",
    "#city_weather = \"Resources/cityweather.csv\"\n",
    "\n",
    "\n",
    "# Export file as a CSV, without the Pandas index, but with the header\n",
    "#output_data_file.to_csv(\"Output/cities.csv\", index=False, header=True)"
   ]
  },
  {
   "cell_type": "code",
   "execution_count": 4,
   "metadata": {},
   "outputs": [],
   "source": [
    "# Range of latitudes and longitudes\n",
    "lat_range = (-90, 90)\n",
    "lng_range = (-180, 180)"
   ]
  },
  {
   "cell_type": "markdown",
   "metadata": {},
   "source": [
    "## Generate Cities List"
   ]
  },
  {
   "cell_type": "code",
   "execution_count": 6,
   "metadata": {},
   "outputs": [
    {
     "data": {
      "text/plain": [
       "10"
      ]
     },
     "execution_count": 6,
     "metadata": {},
     "output_type": "execute_result"
    }
   ],
   "source": [
    "# List for holding lat_lngs and cities\n",
    "lat_lngs = []\n",
    "cities = []\n",
    "\n",
    "# Create a set of random lat and lng combinations\n",
    "lats = np.random.uniform(low=-90.000, high=90.000, size=10)\n",
    "lngs = np.random.uniform(low=-180.000, high=180.000, size=10)\n",
    "lat_lngs = zip(lats, lngs)\n",
    "\n",
    "# Identify nearest city for each lat, lng combination\n",
    "for lat_lng in lat_lngs:\n",
    "    city = citipy.nearest_city(lat_lng[0], lat_lng[1]).city_name\n",
    "    \n",
    "    # If the city is unique, then add it to a our cities list\n",
    "    if city not in cities:\n",
    "        cities.append(city)\n",
    "\n",
    "# Print the city count to confirm sufficient count\n",
    "len(cities)\n"
   ]
  },
  {
   "cell_type": "markdown",
   "metadata": {},
   "source": [
    "### Perform API Calls\n",
    "* Perform a weather check on each city using a series of successive API calls.\n",
    "* Include a print log of each city as it'sbeing processed (with the city number and city name).\n"
   ]
  },
  {
   "cell_type": "code",
   "execution_count": 10,
   "metadata": {},
   "outputs": [
    {
     "name": "stdout",
     "output_type": "stream",
     "text": [
      "Skip invalid data\n",
      "The latitude information received is: [-38.31, -0.95, 43.37, -20.34, -53.16, -23.58, -22.29, -33.59, -42.88]\n",
      "The temperature information received is: [41.5, 65.08, 63.25, 72.68, 32, 65.62, 57.16, 57.99, 46.71]\n",
      "The wind speed information received is: [9.69, 4.63, 10.29, 11.41, 6.93, 19.51, 6.71, 8.01, 8.05]\n",
      "The humidity information received is: [59, 96, 77, 88, 94, 69, 90, 94, 57]\n",
      "The clouds information received is: [11, 98, 40, 75, 90, 0, 1, 77, 0]\n",
      "The longitude information received is: [-60.23, 122.79, -124.22, 57.76, -70.91, 149.07, 44.51, 26.89, 147.33]\n"
     ]
    }
   ],
   "source": [
    "# Place all of the data found into a summary DataFrame\n",
    "# set up lists to hold reponse info\n",
    "town = []\n",
    "lat = []\n",
    "temp = []\n",
    "speed = []\n",
    "humid = []\n",
    "cloud =  []\n",
    "lon = [] \n",
    "\n",
    "# Loop through the list of cities and perform a request for data on each\n",
    "for city in cities:\n",
    "    try:\n",
    "        response = requests.get(query_url + city).json()\n",
    "        town.append(response[\"name\"])\n",
    "        lat.append(response[\"coord\"][\"lat\"])\n",
    "        temp.append(response[\"main\"][\"temp\"])\n",
    "        speed.append(response[\"wind\"][\"speed\"])\n",
    "        humid.append(response[\"main\"][\"humidity\"])\n",
    "        cloud.append(response[\"clouds\"][\"all\"])\n",
    "        lon.append(response[\"coord\"][\"lon\"])\n",
    "    except:\n",
    "        print(\"Skip invalid data\")\n",
    "        continue\n",
    "print(f\"The latitude information received is: {lat}\")\n",
    "print(f\"The temperature information received is: {temp}\")\n",
    "print(f\"The wind speed information received is: {speed}\")\n",
    "print(f\"The humidity information received is: {humid}\")\n",
    "print(f\"The clouds information received is: {cloud}\")\n",
    "print(f\"The longitude information received is: {lon}\")\n",
    "\n"
   ]
  },
  {
   "cell_type": "code",
   "execution_count": 11,
   "metadata": {},
   "outputs": [
    {
     "name": "stdout",
     "output_type": "stream",
     "text": [
      "{\n",
      "    \"base\": \"stations\",\n",
      "    \"clouds\": {\n",
      "        \"all\": 0\n",
      "    },\n",
      "    \"cod\": 200,\n",
      "    \"coord\": {\n",
      "        \"lat\": -42.88,\n",
      "        \"lon\": 147.33\n",
      "    },\n",
      "    \"dt\": 1561510726,\n",
      "    \"id\": 2163355,\n",
      "    \"main\": {\n",
      "        \"humidity\": 57,\n",
      "        \"pressure\": 1034,\n",
      "        \"temp\": 46.71,\n",
      "        \"temp_max\": 51.8,\n",
      "        \"temp_min\": 39.99\n",
      "    },\n",
      "    \"name\": \"Hobart\",\n",
      "    \"sys\": {\n",
      "        \"country\": \"AU\",\n",
      "        \"id\": 9545,\n",
      "        \"message\": 0.0066,\n",
      "        \"sunrise\": 1561498956,\n",
      "        \"sunset\": 1561531438,\n",
      "        \"type\": 1\n",
      "    },\n",
      "    \"timezone\": 36000,\n",
      "    \"visibility\": 10000,\n",
      "    \"weather\": [\n",
      "        {\n",
      "            \"description\": \"clear sky\",\n",
      "            \"icon\": \"01d\",\n",
      "            \"id\": 800,\n",
      "            \"main\": \"Clear\"\n",
      "        }\n",
      "    ],\n",
      "    \"wind\": {\n",
      "        \"deg\": 320,\n",
      "        \"speed\": 8.05\n",
      "    }\n",
      "}\n"
     ]
    }
   ],
   "source": [
    "# Pretty print JSON for all launchpads\n",
    "#response = requests.get(query_url).json()\n",
    "print(json.dumps(response, indent=4, sort_keys=True))"
   ]
  },
  {
   "cell_type": "code",
   "execution_count": 13,
   "metadata": {
    "scrolled": true
   },
   "outputs": [
    {
     "data": {
      "text/html": [
       "<div>\n",
       "<style scoped>\n",
       "    .dataframe tbody tr th:only-of-type {\n",
       "        vertical-align: middle;\n",
       "    }\n",
       "\n",
       "    .dataframe tbody tr th {\n",
       "        vertical-align: top;\n",
       "    }\n",
       "\n",
       "    .dataframe thead th {\n",
       "        text-align: right;\n",
       "    }\n",
       "</style>\n",
       "<table border=\"1\" class=\"dataframe\">\n",
       "  <thead>\n",
       "    <tr style=\"text-align: right;\">\n",
       "      <th></th>\n",
       "      <th>City</th>\n",
       "      <th>Latitude</th>\n",
       "      <th>Longitude</th>\n",
       "      <th>Temperature</th>\n",
       "      <th>Wind Speed</th>\n",
       "      <th>Humidity</th>\n",
       "      <th>Cloud Cover</th>\n",
       "    </tr>\n",
       "  </thead>\n",
       "  <tbody>\n",
       "    <tr>\n",
       "      <th>0</th>\n",
       "      <td>Barrow</td>\n",
       "      <td>-38.31</td>\n",
       "      <td>-60.23</td>\n",
       "      <td>41.50</td>\n",
       "      <td>9.69</td>\n",
       "      <td>59</td>\n",
       "      <td>11</td>\n",
       "    </tr>\n",
       "    <tr>\n",
       "      <th>1</th>\n",
       "      <td>Luwuk</td>\n",
       "      <td>-0.95</td>\n",
       "      <td>122.79</td>\n",
       "      <td>65.08</td>\n",
       "      <td>4.63</td>\n",
       "      <td>96</td>\n",
       "      <td>98</td>\n",
       "    </tr>\n",
       "    <tr>\n",
       "      <th>2</th>\n",
       "      <td>Coos Bay</td>\n",
       "      <td>43.37</td>\n",
       "      <td>-124.22</td>\n",
       "      <td>63.25</td>\n",
       "      <td>10.29</td>\n",
       "      <td>77</td>\n",
       "      <td>40</td>\n",
       "    </tr>\n",
       "    <tr>\n",
       "      <th>3</th>\n",
       "      <td>Bambous Virieux</td>\n",
       "      <td>-20.34</td>\n",
       "      <td>57.76</td>\n",
       "      <td>72.68</td>\n",
       "      <td>11.41</td>\n",
       "      <td>88</td>\n",
       "      <td>75</td>\n",
       "    </tr>\n",
       "    <tr>\n",
       "      <th>4</th>\n",
       "      <td>Punta Arenas</td>\n",
       "      <td>-53.16</td>\n",
       "      <td>-70.91</td>\n",
       "      <td>32.00</td>\n",
       "      <td>6.93</td>\n",
       "      <td>94</td>\n",
       "      <td>90</td>\n",
       "    </tr>\n",
       "    <tr>\n",
       "      <th>5</th>\n",
       "      <td>Bluff</td>\n",
       "      <td>-23.58</td>\n",
       "      <td>149.07</td>\n",
       "      <td>65.62</td>\n",
       "      <td>19.51</td>\n",
       "      <td>69</td>\n",
       "      <td>0</td>\n",
       "    </tr>\n",
       "    <tr>\n",
       "      <th>6</th>\n",
       "      <td>Ankazoabo</td>\n",
       "      <td>-22.29</td>\n",
       "      <td>44.51</td>\n",
       "      <td>57.16</td>\n",
       "      <td>6.71</td>\n",
       "      <td>90</td>\n",
       "      <td>1</td>\n",
       "    </tr>\n",
       "    <tr>\n",
       "      <th>7</th>\n",
       "      <td>Port Alfred</td>\n",
       "      <td>-33.59</td>\n",
       "      <td>26.89</td>\n",
       "      <td>57.99</td>\n",
       "      <td>8.01</td>\n",
       "      <td>94</td>\n",
       "      <td>77</td>\n",
       "    </tr>\n",
       "    <tr>\n",
       "      <th>8</th>\n",
       "      <td>Hobart</td>\n",
       "      <td>-42.88</td>\n",
       "      <td>147.33</td>\n",
       "      <td>46.71</td>\n",
       "      <td>8.05</td>\n",
       "      <td>57</td>\n",
       "      <td>0</td>\n",
       "    </tr>\n",
       "  </tbody>\n",
       "</table>\n",
       "</div>"
      ],
      "text/plain": [
       "              City  Latitude  Longitude  Temperature  Wind Speed  Humidity  \\\n",
       "0           Barrow    -38.31     -60.23        41.50        9.69        59   \n",
       "1            Luwuk     -0.95     122.79        65.08        4.63        96   \n",
       "2         Coos Bay     43.37    -124.22        63.25       10.29        77   \n",
       "3  Bambous Virieux    -20.34      57.76        72.68       11.41        88   \n",
       "4     Punta Arenas    -53.16     -70.91        32.00        6.93        94   \n",
       "5            Bluff    -23.58     149.07        65.62       19.51        69   \n",
       "6        Ankazoabo    -22.29      44.51        57.16        6.71        90   \n",
       "7      Port Alfred    -33.59      26.89        57.99        8.01        94   \n",
       "8           Hobart    -42.88     147.33        46.71        8.05        57   \n",
       "\n",
       "   Cloud Cover  \n",
       "0           11  \n",
       "1           98  \n",
       "2           40  \n",
       "3           75  \n",
       "4           90  \n",
       "5            0  \n",
       "6            1  \n",
       "7           77  \n",
       "8            0  "
      ]
     },
     "execution_count": 13,
     "metadata": {},
     "output_type": "execute_result"
    }
   ],
   "source": [
    "# create a data frame from cities, lat, and temp\n",
    "weather_dict = {\n",
    "    \"City\": town,\n",
    "    \"Latitude\": lat,\n",
    "    \"Longitude\": lon,\n",
    "    \"Temperature\": temp,\n",
    "    \"Wind Speed\": speed,\n",
    "    \"Humidity\": humid,\n",
    "    \"Cloud Cover\": cloud\n",
    "}\n",
    "weather_data = pd.DataFrame(weather_dict)\n",
    "weather_data"
   ]
  },
  {
   "cell_type": "markdown",
   "metadata": {},
   "source": [
    "### Convert Raw Data to DataFrame\n",
    "* Export the city data into a .csv.\n",
    "* Display the DataFrame"
   ]
  },
  {
   "cell_type": "code",
   "execution_count": null,
   "metadata": {},
   "outputs": [],
   "source": []
  },
  {
   "cell_type": "code",
   "execution_count": null,
   "metadata": {},
   "outputs": [],
   "source": []
  },
  {
   "cell_type": "markdown",
   "metadata": {},
   "source": [
    "### Plotting the Data\n",
    "* Use proper labeling of the plots using plot titles (including date of analysis) and axes labels.\n",
    "* Save the plotted figures as .pngs."
   ]
  },
  {
   "cell_type": "markdown",
   "metadata": {},
   "source": [
    "#### Latitude vs. Temperature Plot"
   ]
  },
  {
   "cell_type": "code",
   "execution_count": null,
   "metadata": {},
   "outputs": [],
   "source": [
    "# To convert Kelvin to Celsius C = K - 273.15\n",
    "lat_temp = weather_data['Latitude']['Temperature']\n",
    "print(lat_temp)\n",
    "    "
   ]
  },
  {
   "cell_type": "markdown",
   "metadata": {},
   "source": [
    "#### Latitude vs. Humidity Plot"
   ]
  },
  {
   "cell_type": "code",
   "execution_count": null,
   "metadata": {},
   "outputs": [],
   "source": []
  },
  {
   "cell_type": "markdown",
   "metadata": {},
   "source": [
    "#### Latitude vs. Cloudiness Plot"
   ]
  },
  {
   "cell_type": "code",
   "execution_count": null,
   "metadata": {},
   "outputs": [],
   "source": []
  },
  {
   "cell_type": "markdown",
   "metadata": {},
   "source": [
    "#### Latitude vs. Wind Speed Plot"
   ]
  },
  {
   "cell_type": "code",
   "execution_count": null,
   "metadata": {},
   "outputs": [],
   "source": []
  },
  {
   "cell_type": "code",
   "execution_count": null,
   "metadata": {},
   "outputs": [],
   "source": []
  }
 ],
 "metadata": {
  "anaconda-cloud": {},
  "kernel_info": {
   "name": "python3"
  },
  "kernelspec": {
   "display_name": "Python 3",
   "language": "python",
   "name": "python3"
  },
  "language_info": {
   "codemirror_mode": {
    "name": "ipython",
    "version": 3
   },
   "file_extension": ".py",
   "mimetype": "text/x-python",
   "name": "python",
   "nbconvert_exporter": "python",
   "pygments_lexer": "ipython3",
   "version": "3.7.3"
  },
  "nteract": {
   "version": "0.12.3"
  }
 },
 "nbformat": 4,
 "nbformat_minor": 2
}
